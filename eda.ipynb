{
 "cells": [
  {
   "cell_type": "code",
   "execution_count": 79,
   "metadata": {},
   "outputs": [],
   "source": [
    "import pandas as pd \n",
    "import numpy as np \n",
    "import plotly.express as px \n",
    "import matplotlib.pyplot as plt \n",
    "import seaborn as sns"
   ]
  },
  {
   "cell_type": "code",
   "execution_count": 80,
   "metadata": {},
   "outputs": [
    {
     "data": {
      "text/html": [
       "<div>\n",
       "<style scoped>\n",
       "    .dataframe tbody tr th:only-of-type {\n",
       "        vertical-align: middle;\n",
       "    }\n",
       "\n",
       "    .dataframe tbody tr th {\n",
       "        vertical-align: top;\n",
       "    }\n",
       "\n",
       "    .dataframe thead th {\n",
       "        text-align: right;\n",
       "    }\n",
       "</style>\n",
       "<table border=\"1\" class=\"dataframe\">\n",
       "  <thead>\n",
       "    <tr style=\"text-align: right;\">\n",
       "      <th></th>\n",
       "      <th>Unnamed: 0</th>\n",
       "      <th>Unnamed: 1</th>\n",
       "      <th>Unnamed: 2</th>\n",
       "      <th>Styling</th>\n",
       "      <th>Acceleration</th>\n",
       "      <th>Handling</th>\n",
       "      <th>Fun Factor</th>\n",
       "      <th>Cool Factor</th>\n",
       "      <th>Unnamed: 8</th>\n",
       "      <th>Features</th>\n",
       "      <th>Comfort</th>\n",
       "      <th>Quality</th>\n",
       "      <th>Practicality</th>\n",
       "      <th>Value</th>\n",
       "      <th>Unnamed: 14</th>\n",
       "      <th>Unnamed: 15</th>\n",
       "      <th>Unnamed: 16</th>\n",
       "      <th>Unnamed: 17</th>\n",
       "      <th>Unnamed: 18</th>\n",
       "      <th>Unnamed: 19</th>\n",
       "    </tr>\n",
       "  </thead>\n",
       "  <tbody>\n",
       "    <tr>\n",
       "      <th>0</th>\n",
       "      <td>NaN</td>\n",
       "      <td>NaN</td>\n",
       "      <td>NaN</td>\n",
       "      <td>NaN</td>\n",
       "      <td>NaN</td>\n",
       "      <td>NaN</td>\n",
       "      <td>NaN</td>\n",
       "      <td>NaN</td>\n",
       "      <td>NaN</td>\n",
       "      <td>NaN</td>\n",
       "      <td>NaN</td>\n",
       "      <td>NaN</td>\n",
       "      <td>NaN</td>\n",
       "      <td>NaN</td>\n",
       "      <td>NaN</td>\n",
       "      <td>NaN</td>\n",
       "      <td>NaN</td>\n",
       "      <td>NaN</td>\n",
       "      <td>NaN</td>\n",
       "      <td>NaN</td>\n",
       "    </tr>\n",
       "    <tr>\n",
       "      <th>1</th>\n",
       "      <td>2020.0</td>\n",
       "      <td>McLaren</td>\n",
       "      <td>Speedtail</td>\n",
       "      <td>8.0</td>\n",
       "      <td>10.0</td>\n",
       "      <td>10.0</td>\n",
       "      <td>10.0</td>\n",
       "      <td>10.0</td>\n",
       "      <td>48.0</td>\n",
       "      <td>7.0</td>\n",
       "      <td>4.0</td>\n",
       "      <td>7.0</td>\n",
       "      <td>2.0</td>\n",
       "      <td>6.0</td>\n",
       "      <td>26.0</td>\n",
       "      <td>74.0</td>\n",
       "      <td>38:57</td>\n",
       "      <td>Columbus</td>\n",
       "      <td>Ohio</td>\n",
       "      <td>UK</td>\n",
       "    </tr>\n",
       "    <tr>\n",
       "      <th>2</th>\n",
       "      <td>1994.0</td>\n",
       "      <td>McLaren</td>\n",
       "      <td>F1</td>\n",
       "      <td>8.0</td>\n",
       "      <td>9.0</td>\n",
       "      <td>10.0</td>\n",
       "      <td>10.0</td>\n",
       "      <td>10.0</td>\n",
       "      <td>47.0</td>\n",
       "      <td>2.0</td>\n",
       "      <td>3.0</td>\n",
       "      <td>9.0</td>\n",
       "      <td>3.0</td>\n",
       "      <td>10.0</td>\n",
       "      <td>27.0</td>\n",
       "      <td>74.0</td>\n",
       "      <td>39:50</td>\n",
       "      <td>Burbank</td>\n",
       "      <td>California</td>\n",
       "      <td>UK</td>\n",
       "    </tr>\n",
       "    <tr>\n",
       "      <th>3</th>\n",
       "      <td>2022.0</td>\n",
       "      <td>Lucid</td>\n",
       "      <td>Air Dream Edition</td>\n",
       "      <td>7.0</td>\n",
       "      <td>10.0</td>\n",
       "      <td>6.0</td>\n",
       "      <td>7.0</td>\n",
       "      <td>8.0</td>\n",
       "      <td>38.0</td>\n",
       "      <td>9.0</td>\n",
       "      <td>8.0</td>\n",
       "      <td>7.0</td>\n",
       "      <td>5.0</td>\n",
       "      <td>6.0</td>\n",
       "      <td>35.0</td>\n",
       "      <td>73.0</td>\n",
       "      <td>39:40</td>\n",
       "      <td>Los Angeles</td>\n",
       "      <td>California</td>\n",
       "      <td>USA</td>\n",
       "    </tr>\n",
       "    <tr>\n",
       "      <th>4</th>\n",
       "      <td>2022.0</td>\n",
       "      <td>GMC</td>\n",
       "      <td>Hummer EV Pickup</td>\n",
       "      <td>5.0</td>\n",
       "      <td>9.0</td>\n",
       "      <td>4.0</td>\n",
       "      <td>9.0</td>\n",
       "      <td>7.0</td>\n",
       "      <td>34.0</td>\n",
       "      <td>9.0</td>\n",
       "      <td>7.0</td>\n",
       "      <td>7.0</td>\n",
       "      <td>9.0</td>\n",
       "      <td>7.0</td>\n",
       "      <td>39.0</td>\n",
       "      <td>73.0</td>\n",
       "      <td>33:42</td>\n",
       "      <td>Detroit</td>\n",
       "      <td>Michigan</td>\n",
       "      <td>USA</td>\n",
       "    </tr>\n",
       "  </tbody>\n",
       "</table>\n",
       "</div>"
      ],
      "text/plain": [
       "   Unnamed: 0 Unnamed: 1         Unnamed: 2  Styling  Acceleration  Handling  \\\n",
       "0         NaN        NaN                NaN      NaN           NaN       NaN   \n",
       "1      2020.0    McLaren          Speedtail      8.0          10.0      10.0   \n",
       "2      1994.0    McLaren                 F1      8.0           9.0      10.0   \n",
       "3      2022.0      Lucid  Air Dream Edition      7.0          10.0       6.0   \n",
       "4      2022.0        GMC   Hummer EV Pickup      5.0           9.0       4.0   \n",
       "\n",
       "   Fun Factor  Cool Factor  Unnamed: 8  Features  Comfort  Quality  \\\n",
       "0         NaN          NaN         NaN       NaN      NaN      NaN   \n",
       "1        10.0         10.0        48.0       7.0      4.0      7.0   \n",
       "2        10.0         10.0        47.0       2.0      3.0      9.0   \n",
       "3         7.0          8.0        38.0       9.0      8.0      7.0   \n",
       "4         9.0          7.0        34.0       9.0      7.0      7.0   \n",
       "\n",
       "   Practicality  Value  Unnamed: 14  Unnamed: 15 Unnamed: 16  Unnamed: 17  \\\n",
       "0           NaN    NaN          NaN          NaN         NaN          NaN   \n",
       "1           2.0    6.0         26.0         74.0       38:57     Columbus   \n",
       "2           3.0   10.0         27.0         74.0       39:50      Burbank   \n",
       "3           5.0    6.0         35.0         73.0       39:40  Los Angeles   \n",
       "4           9.0    7.0         39.0         73.0       33:42      Detroit   \n",
       "\n",
       "  Unnamed: 18 Unnamed: 19  \n",
       "0         NaN         NaN  \n",
       "1        Ohio          UK  \n",
       "2  California          UK  \n",
       "3  California         USA  \n",
       "4    Michigan         USA  "
      ]
     },
     "execution_count": 80,
     "metadata": {},
     "output_type": "execute_result"
    }
   ],
   "source": [
    "data = pd.read_csv('dougscore.csv',skiprows=1)\n",
    "data.head()"
   ]
  },
  {
   "cell_type": "code",
   "execution_count": 81,
   "metadata": {},
   "outputs": [
    {
     "data": {
      "text/html": [
       "<div>\n",
       "<style scoped>\n",
       "    .dataframe tbody tr th:only-of-type {\n",
       "        vertical-align: middle;\n",
       "    }\n",
       "\n",
       "    .dataframe tbody tr th {\n",
       "        vertical-align: top;\n",
       "    }\n",
       "\n",
       "    .dataframe thead th {\n",
       "        text-align: right;\n",
       "    }\n",
       "</style>\n",
       "<table border=\"1\" class=\"dataframe\">\n",
       "  <thead>\n",
       "    <tr style=\"text-align: right;\">\n",
       "      <th></th>\n",
       "      <th>Year</th>\n",
       "      <th>Make</th>\n",
       "      <th>Model</th>\n",
       "      <th>Styling</th>\n",
       "      <th>Acceleration</th>\n",
       "      <th>Handling</th>\n",
       "      <th>Fun Factor</th>\n",
       "      <th>Cool Factor</th>\n",
       "      <th>Total_Weekend</th>\n",
       "      <th>Features</th>\n",
       "      <th>Comfort</th>\n",
       "      <th>Quality</th>\n",
       "      <th>Practicality</th>\n",
       "      <th>Value</th>\n",
       "      <th>Total_Daily</th>\n",
       "      <th>Total_Overall</th>\n",
       "      <th>Video_Length</th>\n",
       "      <th>Film_City</th>\n",
       "      <th>Film_State</th>\n",
       "      <th>Mfg_Country</th>\n",
       "    </tr>\n",
       "  </thead>\n",
       "  <tbody>\n",
       "    <tr>\n",
       "      <th>0</th>\n",
       "      <td>NaN</td>\n",
       "      <td>NaN</td>\n",
       "      <td>NaN</td>\n",
       "      <td>NaN</td>\n",
       "      <td>NaN</td>\n",
       "      <td>NaN</td>\n",
       "      <td>NaN</td>\n",
       "      <td>NaN</td>\n",
       "      <td>NaN</td>\n",
       "      <td>NaN</td>\n",
       "      <td>NaN</td>\n",
       "      <td>NaN</td>\n",
       "      <td>NaN</td>\n",
       "      <td>NaN</td>\n",
       "      <td>NaN</td>\n",
       "      <td>NaN</td>\n",
       "      <td>NaN</td>\n",
       "      <td>NaN</td>\n",
       "      <td>NaN</td>\n",
       "      <td>NaN</td>\n",
       "    </tr>\n",
       "    <tr>\n",
       "      <th>1</th>\n",
       "      <td>2020.0</td>\n",
       "      <td>McLaren</td>\n",
       "      <td>Speedtail</td>\n",
       "      <td>8.0</td>\n",
       "      <td>10.0</td>\n",
       "      <td>10.0</td>\n",
       "      <td>10.0</td>\n",
       "      <td>10.0</td>\n",
       "      <td>48.0</td>\n",
       "      <td>7.0</td>\n",
       "      <td>4.0</td>\n",
       "      <td>7.0</td>\n",
       "      <td>2.0</td>\n",
       "      <td>6.0</td>\n",
       "      <td>26.0</td>\n",
       "      <td>74.0</td>\n",
       "      <td>38:57</td>\n",
       "      <td>Columbus</td>\n",
       "      <td>Ohio</td>\n",
       "      <td>UK</td>\n",
       "    </tr>\n",
       "    <tr>\n",
       "      <th>2</th>\n",
       "      <td>1994.0</td>\n",
       "      <td>McLaren</td>\n",
       "      <td>F1</td>\n",
       "      <td>8.0</td>\n",
       "      <td>9.0</td>\n",
       "      <td>10.0</td>\n",
       "      <td>10.0</td>\n",
       "      <td>10.0</td>\n",
       "      <td>47.0</td>\n",
       "      <td>2.0</td>\n",
       "      <td>3.0</td>\n",
       "      <td>9.0</td>\n",
       "      <td>3.0</td>\n",
       "      <td>10.0</td>\n",
       "      <td>27.0</td>\n",
       "      <td>74.0</td>\n",
       "      <td>39:50</td>\n",
       "      <td>Burbank</td>\n",
       "      <td>California</td>\n",
       "      <td>UK</td>\n",
       "    </tr>\n",
       "    <tr>\n",
       "      <th>3</th>\n",
       "      <td>2022.0</td>\n",
       "      <td>Lucid</td>\n",
       "      <td>Air Dream Edition</td>\n",
       "      <td>7.0</td>\n",
       "      <td>10.0</td>\n",
       "      <td>6.0</td>\n",
       "      <td>7.0</td>\n",
       "      <td>8.0</td>\n",
       "      <td>38.0</td>\n",
       "      <td>9.0</td>\n",
       "      <td>8.0</td>\n",
       "      <td>7.0</td>\n",
       "      <td>5.0</td>\n",
       "      <td>6.0</td>\n",
       "      <td>35.0</td>\n",
       "      <td>73.0</td>\n",
       "      <td>39:40</td>\n",
       "      <td>Los Angeles</td>\n",
       "      <td>California</td>\n",
       "      <td>USA</td>\n",
       "    </tr>\n",
       "    <tr>\n",
       "      <th>4</th>\n",
       "      <td>2022.0</td>\n",
       "      <td>GMC</td>\n",
       "      <td>Hummer EV Pickup</td>\n",
       "      <td>5.0</td>\n",
       "      <td>9.0</td>\n",
       "      <td>4.0</td>\n",
       "      <td>9.0</td>\n",
       "      <td>7.0</td>\n",
       "      <td>34.0</td>\n",
       "      <td>9.0</td>\n",
       "      <td>7.0</td>\n",
       "      <td>7.0</td>\n",
       "      <td>9.0</td>\n",
       "      <td>7.0</td>\n",
       "      <td>39.0</td>\n",
       "      <td>73.0</td>\n",
       "      <td>33:42</td>\n",
       "      <td>Detroit</td>\n",
       "      <td>Michigan</td>\n",
       "      <td>USA</td>\n",
       "    </tr>\n",
       "  </tbody>\n",
       "</table>\n",
       "</div>"
      ],
      "text/plain": [
       "     Year     Make              Model  Styling  Acceleration  Handling  \\\n",
       "0     NaN      NaN                NaN      NaN           NaN       NaN   \n",
       "1  2020.0  McLaren          Speedtail      8.0          10.0      10.0   \n",
       "2  1994.0  McLaren                 F1      8.0           9.0      10.0   \n",
       "3  2022.0    Lucid  Air Dream Edition      7.0          10.0       6.0   \n",
       "4  2022.0      GMC   Hummer EV Pickup      5.0           9.0       4.0   \n",
       "\n",
       "   Fun Factor  Cool Factor  Total_Weekend  Features  Comfort  Quality  \\\n",
       "0         NaN          NaN            NaN       NaN      NaN      NaN   \n",
       "1        10.0         10.0           48.0       7.0      4.0      7.0   \n",
       "2        10.0         10.0           47.0       2.0      3.0      9.0   \n",
       "3         7.0          8.0           38.0       9.0      8.0      7.0   \n",
       "4         9.0          7.0           34.0       9.0      7.0      7.0   \n",
       "\n",
       "   Practicality  Value  Total_Daily  Total_Overall Video_Length    Film_City  \\\n",
       "0           NaN    NaN          NaN            NaN          NaN          NaN   \n",
       "1           2.0    6.0         26.0           74.0        38:57     Columbus   \n",
       "2           3.0   10.0         27.0           74.0        39:50      Burbank   \n",
       "3           5.0    6.0         35.0           73.0        39:40  Los Angeles   \n",
       "4           9.0    7.0         39.0           73.0        33:42      Detroit   \n",
       "\n",
       "   Film_State Mfg_Country  \n",
       "0         NaN         NaN  \n",
       "1        Ohio          UK  \n",
       "2  California          UK  \n",
       "3  California         USA  \n",
       "4    Michigan         USA  "
      ]
     },
     "execution_count": 81,
     "metadata": {},
     "output_type": "execute_result"
    }
   ],
   "source": [
    "data = data.rename(columns={'Unnamed: 0':'Year',\n",
    "                     'Unnamed: 1':'Make',\n",
    "                     'Unnamed: 2':'Model',\n",
    "                     'Unnamed: 8':'Total_Weekend',\n",
    "                     'Unnamed: 14':'Total_Daily',\n",
    "                     'Unnamed: 15':'Total_Overall',\n",
    "                     'Unnamed: 16':'Video_Length',\n",
    "                     'Unnamed: 17':'Film_City',\n",
    "                     'Unnamed: 18':'Film_State',\n",
    "                     'Unnamed: 19':'Mfg_Country'})\n",
    "data.head()"
   ]
  },
  {
   "cell_type": "code",
   "execution_count": 82,
   "metadata": {},
   "outputs": [
    {
     "data": {
      "text/html": [
       "<div>\n",
       "<style scoped>\n",
       "    .dataframe tbody tr th:only-of-type {\n",
       "        vertical-align: middle;\n",
       "    }\n",
       "\n",
       "    .dataframe tbody tr th {\n",
       "        vertical-align: top;\n",
       "    }\n",
       "\n",
       "    .dataframe thead th {\n",
       "        text-align: right;\n",
       "    }\n",
       "</style>\n",
       "<table border=\"1\" class=\"dataframe\">\n",
       "  <thead>\n",
       "    <tr style=\"text-align: right;\">\n",
       "      <th></th>\n",
       "      <th>Year</th>\n",
       "      <th>Make</th>\n",
       "      <th>Model</th>\n",
       "      <th>Styling</th>\n",
       "      <th>Acceleration</th>\n",
       "      <th>Handling</th>\n",
       "      <th>Fun Factor</th>\n",
       "      <th>Cool Factor</th>\n",
       "      <th>Total_Weekend</th>\n",
       "      <th>Features</th>\n",
       "      <th>Comfort</th>\n",
       "      <th>Quality</th>\n",
       "      <th>Practicality</th>\n",
       "      <th>Value</th>\n",
       "      <th>Total_Daily</th>\n",
       "      <th>Total_Overall</th>\n",
       "      <th>Video_Length</th>\n",
       "      <th>Film_City</th>\n",
       "      <th>Film_State</th>\n",
       "      <th>Mfg_Country</th>\n",
       "    </tr>\n",
       "  </thead>\n",
       "  <tbody>\n",
       "    <tr>\n",
       "      <th>0</th>\n",
       "      <td>NaN</td>\n",
       "      <td>NaN</td>\n",
       "      <td>NaN</td>\n",
       "      <td>NaN</td>\n",
       "      <td>NaN</td>\n",
       "      <td>NaN</td>\n",
       "      <td>NaN</td>\n",
       "      <td>NaN</td>\n",
       "      <td>NaN</td>\n",
       "      <td>NaN</td>\n",
       "      <td>NaN</td>\n",
       "      <td>NaN</td>\n",
       "      <td>NaN</td>\n",
       "      <td>NaN</td>\n",
       "      <td>NaN</td>\n",
       "      <td>NaN</td>\n",
       "      <td>NaN</td>\n",
       "      <td>NaN</td>\n",
       "      <td>NaN</td>\n",
       "      <td>NaN</td>\n",
       "    </tr>\n",
       "    <tr>\n",
       "      <th>100</th>\n",
       "      <td>2019.0</td>\n",
       "      <td>Tesla</td>\n",
       "      <td>Model 3 Performance</td>\n",
       "      <td>5.0</td>\n",
       "      <td>9.0</td>\n",
       "      <td>6.0</td>\n",
       "      <td>6.0</td>\n",
       "      <td>5.0</td>\n",
       "      <td>31.0</td>\n",
       "      <td>9.0</td>\n",
       "      <td>7.0</td>\n",
       "      <td>6.0</td>\n",
       "      <td>6.0</td>\n",
       "      <td>8.0</td>\n",
       "      <td>36.0</td>\n",
       "      <td>67.0</td>\n",
       "      <td>34:09</td>\n",
       "      <td>NaN</td>\n",
       "      <td>California</td>\n",
       "      <td>USA</td>\n",
       "    </tr>\n",
       "    <tr>\n",
       "      <th>221</th>\n",
       "      <td>2019.0</td>\n",
       "      <td>Audi</td>\n",
       "      <td>A8L</td>\n",
       "      <td>6.0</td>\n",
       "      <td>4.0</td>\n",
       "      <td>5.0</td>\n",
       "      <td>4.0</td>\n",
       "      <td>5.0</td>\n",
       "      <td>24.0</td>\n",
       "      <td>9.0</td>\n",
       "      <td>9.0</td>\n",
       "      <td>8.0</td>\n",
       "      <td>5.0</td>\n",
       "      <td>7.0</td>\n",
       "      <td>38.0</td>\n",
       "      <td>62.0</td>\n",
       "      <td>NaN</td>\n",
       "      <td>Santa Ana</td>\n",
       "      <td>California</td>\n",
       "      <td>Germany</td>\n",
       "    </tr>\n",
       "  </tbody>\n",
       "</table>\n",
       "</div>"
      ],
      "text/plain": [
       "       Year   Make                Model  Styling  Acceleration  Handling  \\\n",
       "0       NaN    NaN                  NaN      NaN           NaN       NaN   \n",
       "100  2019.0  Tesla  Model 3 Performance      5.0           9.0       6.0   \n",
       "221  2019.0   Audi                  A8L      6.0           4.0       5.0   \n",
       "\n",
       "     Fun Factor  Cool Factor  Total_Weekend  Features  Comfort  Quality  \\\n",
       "0           NaN          NaN            NaN       NaN      NaN      NaN   \n",
       "100         6.0          5.0           31.0       9.0      7.0      6.0   \n",
       "221         4.0          5.0           24.0       9.0      9.0      8.0   \n",
       "\n",
       "     Practicality  Value  Total_Daily  Total_Overall Video_Length  Film_City  \\\n",
       "0             NaN    NaN          NaN            NaN          NaN        NaN   \n",
       "100           6.0    8.0         36.0           67.0        34:09        NaN   \n",
       "221           5.0    7.0         38.0           62.0          NaN  Santa Ana   \n",
       "\n",
       "     Film_State Mfg_Country  \n",
       "0           NaN         NaN  \n",
       "100  California         USA  \n",
       "221  California     Germany  "
      ]
     },
     "execution_count": 82,
     "metadata": {},
     "output_type": "execute_result"
    }
   ],
   "source": [
    "data[data.isna().any(axis=1)]"
   ]
  },
  {
   "cell_type": "code",
   "execution_count": 83,
   "metadata": {},
   "outputs": [],
   "source": [
    "data = data.drop(data[data.isna().all(axis=1)].index)"
   ]
  },
  {
   "cell_type": "code",
   "execution_count": 84,
   "metadata": {},
   "outputs": [
    {
     "data": {
      "text/html": [
       "<div>\n",
       "<style scoped>\n",
       "    .dataframe tbody tr th:only-of-type {\n",
       "        vertical-align: middle;\n",
       "    }\n",
       "\n",
       "    .dataframe tbody tr th {\n",
       "        vertical-align: top;\n",
       "    }\n",
       "\n",
       "    .dataframe thead th {\n",
       "        text-align: right;\n",
       "    }\n",
       "</style>\n",
       "<table border=\"1\" class=\"dataframe\">\n",
       "  <thead>\n",
       "    <tr style=\"text-align: right;\">\n",
       "      <th></th>\n",
       "      <th>Year</th>\n",
       "      <th>Make</th>\n",
       "      <th>Model</th>\n",
       "      <th>Styling</th>\n",
       "      <th>Acceleration</th>\n",
       "      <th>Handling</th>\n",
       "      <th>Fun Factor</th>\n",
       "      <th>Cool Factor</th>\n",
       "      <th>Total_Weekend</th>\n",
       "      <th>Features</th>\n",
       "      <th>Comfort</th>\n",
       "      <th>Quality</th>\n",
       "      <th>Practicality</th>\n",
       "      <th>Value</th>\n",
       "      <th>Total_Daily</th>\n",
       "      <th>Total_Overall</th>\n",
       "      <th>Video_Length</th>\n",
       "      <th>Film_City</th>\n",
       "      <th>Film_State</th>\n",
       "      <th>Mfg_Country</th>\n",
       "    </tr>\n",
       "  </thead>\n",
       "  <tbody>\n",
       "    <tr>\n",
       "      <th>1</th>\n",
       "      <td>2020.0</td>\n",
       "      <td>McLaren</td>\n",
       "      <td>Speedtail</td>\n",
       "      <td>8.0</td>\n",
       "      <td>10.0</td>\n",
       "      <td>10.0</td>\n",
       "      <td>10.0</td>\n",
       "      <td>10.0</td>\n",
       "      <td>48.0</td>\n",
       "      <td>7.0</td>\n",
       "      <td>4.0</td>\n",
       "      <td>7.0</td>\n",
       "      <td>2.0</td>\n",
       "      <td>6.0</td>\n",
       "      <td>26.0</td>\n",
       "      <td>74.0</td>\n",
       "      <td>38:57</td>\n",
       "      <td>Columbus</td>\n",
       "      <td>Ohio</td>\n",
       "      <td>UK</td>\n",
       "    </tr>\n",
       "    <tr>\n",
       "      <th>2</th>\n",
       "      <td>1994.0</td>\n",
       "      <td>McLaren</td>\n",
       "      <td>F1</td>\n",
       "      <td>8.0</td>\n",
       "      <td>9.0</td>\n",
       "      <td>10.0</td>\n",
       "      <td>10.0</td>\n",
       "      <td>10.0</td>\n",
       "      <td>47.0</td>\n",
       "      <td>2.0</td>\n",
       "      <td>3.0</td>\n",
       "      <td>9.0</td>\n",
       "      <td>3.0</td>\n",
       "      <td>10.0</td>\n",
       "      <td>27.0</td>\n",
       "      <td>74.0</td>\n",
       "      <td>39:50</td>\n",
       "      <td>Burbank</td>\n",
       "      <td>California</td>\n",
       "      <td>UK</td>\n",
       "    </tr>\n",
       "    <tr>\n",
       "      <th>3</th>\n",
       "      <td>2022.0</td>\n",
       "      <td>Lucid</td>\n",
       "      <td>Air Dream Edition</td>\n",
       "      <td>7.0</td>\n",
       "      <td>10.0</td>\n",
       "      <td>6.0</td>\n",
       "      <td>7.0</td>\n",
       "      <td>8.0</td>\n",
       "      <td>38.0</td>\n",
       "      <td>9.0</td>\n",
       "      <td>8.0</td>\n",
       "      <td>7.0</td>\n",
       "      <td>5.0</td>\n",
       "      <td>6.0</td>\n",
       "      <td>35.0</td>\n",
       "      <td>73.0</td>\n",
       "      <td>39:40</td>\n",
       "      <td>Los Angeles</td>\n",
       "      <td>California</td>\n",
       "      <td>USA</td>\n",
       "    </tr>\n",
       "    <tr>\n",
       "      <th>4</th>\n",
       "      <td>2022.0</td>\n",
       "      <td>GMC</td>\n",
       "      <td>Hummer EV Pickup</td>\n",
       "      <td>5.0</td>\n",
       "      <td>9.0</td>\n",
       "      <td>4.0</td>\n",
       "      <td>9.0</td>\n",
       "      <td>7.0</td>\n",
       "      <td>34.0</td>\n",
       "      <td>9.0</td>\n",
       "      <td>7.0</td>\n",
       "      <td>7.0</td>\n",
       "      <td>9.0</td>\n",
       "      <td>7.0</td>\n",
       "      <td>39.0</td>\n",
       "      <td>73.0</td>\n",
       "      <td>33:42</td>\n",
       "      <td>Detroit</td>\n",
       "      <td>Michigan</td>\n",
       "      <td>USA</td>\n",
       "    </tr>\n",
       "    <tr>\n",
       "      <th>5</th>\n",
       "      <td>2021.0</td>\n",
       "      <td>Rivian</td>\n",
       "      <td>R1T</td>\n",
       "      <td>7.0</td>\n",
       "      <td>9.0</td>\n",
       "      <td>5.0</td>\n",
       "      <td>9.0</td>\n",
       "      <td>7.0</td>\n",
       "      <td>37.0</td>\n",
       "      <td>7.0</td>\n",
       "      <td>6.0</td>\n",
       "      <td>6.0</td>\n",
       "      <td>9.0</td>\n",
       "      <td>8.0</td>\n",
       "      <td>36.0</td>\n",
       "      <td>73.0</td>\n",
       "      <td>44:48</td>\n",
       "      <td>San Diego</td>\n",
       "      <td>California</td>\n",
       "      <td>USA</td>\n",
       "    </tr>\n",
       "    <tr>\n",
       "      <th>...</th>\n",
       "      <td>...</td>\n",
       "      <td>...</td>\n",
       "      <td>...</td>\n",
       "      <td>...</td>\n",
       "      <td>...</td>\n",
       "      <td>...</td>\n",
       "      <td>...</td>\n",
       "      <td>...</td>\n",
       "      <td>...</td>\n",
       "      <td>...</td>\n",
       "      <td>...</td>\n",
       "      <td>...</td>\n",
       "      <td>...</td>\n",
       "      <td>...</td>\n",
       "      <td>...</td>\n",
       "      <td>...</td>\n",
       "      <td>...</td>\n",
       "      <td>...</td>\n",
       "      <td>...</td>\n",
       "      <td>...</td>\n",
       "    </tr>\n",
       "    <tr>\n",
       "      <th>581</th>\n",
       "      <td>2012.0</td>\n",
       "      <td>Nissan</td>\n",
       "      <td>Murano CrossCabriolet</td>\n",
       "      <td>2.0</td>\n",
       "      <td>1.0</td>\n",
       "      <td>3.0</td>\n",
       "      <td>1.0</td>\n",
       "      <td>2.0</td>\n",
       "      <td>9.0</td>\n",
       "      <td>4.0</td>\n",
       "      <td>5.0</td>\n",
       "      <td>5.0</td>\n",
       "      <td>4.0</td>\n",
       "      <td>3.0</td>\n",
       "      <td>21.0</td>\n",
       "      <td>30.0</td>\n",
       "      <td>6:49</td>\n",
       "      <td>Philadelphia</td>\n",
       "      <td>Pennsylvania</td>\n",
       "      <td>Japan</td>\n",
       "    </tr>\n",
       "    <tr>\n",
       "      <th>582</th>\n",
       "      <td>2017.0</td>\n",
       "      <td>Mercedes-Benz</td>\n",
       "      <td>Metris</td>\n",
       "      <td>3.0</td>\n",
       "      <td>1.0</td>\n",
       "      <td>3.0</td>\n",
       "      <td>1.0</td>\n",
       "      <td>1.0</td>\n",
       "      <td>9.0</td>\n",
       "      <td>4.0</td>\n",
       "      <td>6.0</td>\n",
       "      <td>4.0</td>\n",
       "      <td>6.0</td>\n",
       "      <td>1.0</td>\n",
       "      <td>21.0</td>\n",
       "      <td>30.0</td>\n",
       "      <td>25:30</td>\n",
       "      <td>Denver</td>\n",
       "      <td>Colorado</td>\n",
       "      <td>Germany</td>\n",
       "    </tr>\n",
       "    <tr>\n",
       "      <th>583</th>\n",
       "      <td>1988.0</td>\n",
       "      <td>Yugo</td>\n",
       "      <td>GV</td>\n",
       "      <td>3.0</td>\n",
       "      <td>1.0</td>\n",
       "      <td>2.0</td>\n",
       "      <td>3.0</td>\n",
       "      <td>6.0</td>\n",
       "      <td>15.0</td>\n",
       "      <td>2.0</td>\n",
       "      <td>3.0</td>\n",
       "      <td>1.0</td>\n",
       "      <td>3.0</td>\n",
       "      <td>5.0</td>\n",
       "      <td>14.0</td>\n",
       "      <td>29.0</td>\n",
       "      <td>9:51</td>\n",
       "      <td>Douglasville</td>\n",
       "      <td>Georgia</td>\n",
       "      <td>Yugoslavia</td>\n",
       "    </tr>\n",
       "    <tr>\n",
       "      <th>584</th>\n",
       "      <td>1971.0</td>\n",
       "      <td>Trabant</td>\n",
       "      <td>Trabant</td>\n",
       "      <td>2.0</td>\n",
       "      <td>1.0</td>\n",
       "      <td>1.0</td>\n",
       "      <td>3.0</td>\n",
       "      <td>7.0</td>\n",
       "      <td>14.0</td>\n",
       "      <td>1.0</td>\n",
       "      <td>2.0</td>\n",
       "      <td>1.0</td>\n",
       "      <td>3.0</td>\n",
       "      <td>6.0</td>\n",
       "      <td>13.0</td>\n",
       "      <td>27.0</td>\n",
       "      <td>9:40</td>\n",
       "      <td>Fairfax</td>\n",
       "      <td>Virginia</td>\n",
       "      <td>East Germany</td>\n",
       "    </tr>\n",
       "    <tr>\n",
       "      <th>585</th>\n",
       "      <td>1969.0</td>\n",
       "      <td>BMW</td>\n",
       "      <td>Isetta</td>\n",
       "      <td>4.0</td>\n",
       "      <td>1.0</td>\n",
       "      <td>1.0</td>\n",
       "      <td>5.0</td>\n",
       "      <td>6.0</td>\n",
       "      <td>17.0</td>\n",
       "      <td>1.0</td>\n",
       "      <td>1.0</td>\n",
       "      <td>1.0</td>\n",
       "      <td>1.0</td>\n",
       "      <td>4.0</td>\n",
       "      <td>8.0</td>\n",
       "      <td>25.0</td>\n",
       "      <td>14:47</td>\n",
       "      <td>Huntingdon Valley</td>\n",
       "      <td>Pennsylvania</td>\n",
       "      <td>Germany</td>\n",
       "    </tr>\n",
       "  </tbody>\n",
       "</table>\n",
       "<p>585 rows × 20 columns</p>\n",
       "</div>"
      ],
      "text/plain": [
       "       Year           Make                  Model  Styling  Acceleration  \\\n",
       "1    2020.0        McLaren              Speedtail      8.0          10.0   \n",
       "2    1994.0        McLaren                     F1      8.0           9.0   \n",
       "3    2022.0          Lucid      Air Dream Edition      7.0          10.0   \n",
       "4    2022.0            GMC       Hummer EV Pickup      5.0           9.0   \n",
       "5    2021.0         Rivian                    R1T      7.0           9.0   \n",
       "..      ...            ...                    ...      ...           ...   \n",
       "581  2012.0         Nissan  Murano CrossCabriolet      2.0           1.0   \n",
       "582  2017.0  Mercedes-Benz                 Metris      3.0           1.0   \n",
       "583  1988.0           Yugo                     GV      3.0           1.0   \n",
       "584  1971.0        Trabant                Trabant      2.0           1.0   \n",
       "585  1969.0            BMW                 Isetta      4.0           1.0   \n",
       "\n",
       "     Handling  Fun Factor  Cool Factor  Total_Weekend  Features  Comfort  \\\n",
       "1        10.0        10.0         10.0           48.0       7.0      4.0   \n",
       "2        10.0        10.0         10.0           47.0       2.0      3.0   \n",
       "3         6.0         7.0          8.0           38.0       9.0      8.0   \n",
       "4         4.0         9.0          7.0           34.0       9.0      7.0   \n",
       "5         5.0         9.0          7.0           37.0       7.0      6.0   \n",
       "..        ...         ...          ...            ...       ...      ...   \n",
       "581       3.0         1.0          2.0            9.0       4.0      5.0   \n",
       "582       3.0         1.0          1.0            9.0       4.0      6.0   \n",
       "583       2.0         3.0          6.0           15.0       2.0      3.0   \n",
       "584       1.0         3.0          7.0           14.0       1.0      2.0   \n",
       "585       1.0         5.0          6.0           17.0       1.0      1.0   \n",
       "\n",
       "     Quality  Practicality  Value  Total_Daily  Total_Overall Video_Length  \\\n",
       "1        7.0           2.0    6.0         26.0           74.0        38:57   \n",
       "2        9.0           3.0   10.0         27.0           74.0        39:50   \n",
       "3        7.0           5.0    6.0         35.0           73.0        39:40   \n",
       "4        7.0           9.0    7.0         39.0           73.0        33:42   \n",
       "5        6.0           9.0    8.0         36.0           73.0        44:48   \n",
       "..       ...           ...    ...          ...            ...          ...   \n",
       "581      5.0           4.0    3.0         21.0           30.0         6:49   \n",
       "582      4.0           6.0    1.0         21.0           30.0        25:30   \n",
       "583      1.0           3.0    5.0         14.0           29.0         9:51   \n",
       "584      1.0           3.0    6.0         13.0           27.0         9:40   \n",
       "585      1.0           1.0    4.0          8.0           25.0        14:47   \n",
       "\n",
       "             Film_City    Film_State   Mfg_Country  \n",
       "1             Columbus          Ohio            UK  \n",
       "2              Burbank    California            UK  \n",
       "3          Los Angeles    California           USA  \n",
       "4              Detroit      Michigan           USA  \n",
       "5            San Diego    California           USA  \n",
       "..                 ...           ...           ...  \n",
       "581       Philadelphia  Pennsylvania         Japan  \n",
       "582             Denver      Colorado       Germany  \n",
       "583       Douglasville       Georgia    Yugoslavia  \n",
       "584            Fairfax      Virginia  East Germany  \n",
       "585  Huntingdon Valley  Pennsylvania       Germany  \n",
       "\n",
       "[585 rows x 20 columns]"
      ]
     },
     "execution_count": 84,
     "metadata": {},
     "output_type": "execute_result"
    }
   ],
   "source": [
    "data"
   ]
  },
  {
   "cell_type": "code",
   "execution_count": 85,
   "metadata": {},
   "outputs": [
    {
     "data": {
      "text/html": [
       "<div>\n",
       "<style scoped>\n",
       "    .dataframe tbody tr th:only-of-type {\n",
       "        vertical-align: middle;\n",
       "    }\n",
       "\n",
       "    .dataframe tbody tr th {\n",
       "        vertical-align: top;\n",
       "    }\n",
       "\n",
       "    .dataframe thead th {\n",
       "        text-align: right;\n",
       "    }\n",
       "</style>\n",
       "<table border=\"1\" class=\"dataframe\">\n",
       "  <thead>\n",
       "    <tr style=\"text-align: right;\">\n",
       "      <th></th>\n",
       "      <th>city</th>\n",
       "      <th>city_ascii</th>\n",
       "      <th>state_id</th>\n",
       "      <th>state_name</th>\n",
       "      <th>county_fips</th>\n",
       "      <th>county_name</th>\n",
       "      <th>lat</th>\n",
       "      <th>lng</th>\n",
       "      <th>population</th>\n",
       "      <th>density</th>\n",
       "      <th>source</th>\n",
       "      <th>military</th>\n",
       "      <th>incorporated</th>\n",
       "      <th>timezone</th>\n",
       "      <th>ranking</th>\n",
       "      <th>zips</th>\n",
       "      <th>id</th>\n",
       "    </tr>\n",
       "  </thead>\n",
       "  <tbody>\n",
       "    <tr>\n",
       "      <th>0</th>\n",
       "      <td>New York</td>\n",
       "      <td>New York</td>\n",
       "      <td>NY</td>\n",
       "      <td>New York</td>\n",
       "      <td>36081</td>\n",
       "      <td>Queens</td>\n",
       "      <td>40.6943</td>\n",
       "      <td>-73.9249</td>\n",
       "      <td>18832416</td>\n",
       "      <td>10943.7</td>\n",
       "      <td>shape</td>\n",
       "      <td>False</td>\n",
       "      <td>True</td>\n",
       "      <td>America/New_York</td>\n",
       "      <td>1</td>\n",
       "      <td>11229 11226 11225 11224 11223 11221 11220 1138...</td>\n",
       "      <td>1840034016</td>\n",
       "    </tr>\n",
       "    <tr>\n",
       "      <th>1</th>\n",
       "      <td>Los Angeles</td>\n",
       "      <td>Los Angeles</td>\n",
       "      <td>CA</td>\n",
       "      <td>California</td>\n",
       "      <td>6037</td>\n",
       "      <td>Los Angeles</td>\n",
       "      <td>34.1141</td>\n",
       "      <td>-118.4068</td>\n",
       "      <td>11885717</td>\n",
       "      <td>3165.8</td>\n",
       "      <td>shape</td>\n",
       "      <td>False</td>\n",
       "      <td>True</td>\n",
       "      <td>America/Los_Angeles</td>\n",
       "      <td>1</td>\n",
       "      <td>90291 90293 90292 91316 91311 90035 90034 9003...</td>\n",
       "      <td>1840020491</td>\n",
       "    </tr>\n",
       "    <tr>\n",
       "      <th>2</th>\n",
       "      <td>Chicago</td>\n",
       "      <td>Chicago</td>\n",
       "      <td>IL</td>\n",
       "      <td>Illinois</td>\n",
       "      <td>17031</td>\n",
       "      <td>Cook</td>\n",
       "      <td>41.8375</td>\n",
       "      <td>-87.6866</td>\n",
       "      <td>8489066</td>\n",
       "      <td>4590.3</td>\n",
       "      <td>shape</td>\n",
       "      <td>False</td>\n",
       "      <td>True</td>\n",
       "      <td>America/Chicago</td>\n",
       "      <td>1</td>\n",
       "      <td>60018 60649 60641 60640 60643 60642 60645 6064...</td>\n",
       "      <td>1840000494</td>\n",
       "    </tr>\n",
       "    <tr>\n",
       "      <th>3</th>\n",
       "      <td>Miami</td>\n",
       "      <td>Miami</td>\n",
       "      <td>FL</td>\n",
       "      <td>Florida</td>\n",
       "      <td>12086</td>\n",
       "      <td>Miami-Dade</td>\n",
       "      <td>25.7840</td>\n",
       "      <td>-80.2101</td>\n",
       "      <td>6113982</td>\n",
       "      <td>4791.1</td>\n",
       "      <td>shape</td>\n",
       "      <td>False</td>\n",
       "      <td>True</td>\n",
       "      <td>America/New_York</td>\n",
       "      <td>1</td>\n",
       "      <td>33128 33129 33125 33126 33127 33149 33144 3314...</td>\n",
       "      <td>1840015149</td>\n",
       "    </tr>\n",
       "    <tr>\n",
       "      <th>4</th>\n",
       "      <td>Houston</td>\n",
       "      <td>Houston</td>\n",
       "      <td>TX</td>\n",
       "      <td>Texas</td>\n",
       "      <td>48201</td>\n",
       "      <td>Harris</td>\n",
       "      <td>29.7860</td>\n",
       "      <td>-95.3885</td>\n",
       "      <td>6046392</td>\n",
       "      <td>1386.5</td>\n",
       "      <td>shape</td>\n",
       "      <td>False</td>\n",
       "      <td>True</td>\n",
       "      <td>America/Chicago</td>\n",
       "      <td>1</td>\n",
       "      <td>77069 77068 77061 77060 77063 77062 77065 7706...</td>\n",
       "      <td>1840020925</td>\n",
       "    </tr>\n",
       "  </tbody>\n",
       "</table>\n",
       "</div>"
      ],
      "text/plain": [
       "          city   city_ascii state_id  state_name  county_fips  county_name  \\\n",
       "0     New York     New York       NY    New York        36081       Queens   \n",
       "1  Los Angeles  Los Angeles       CA  California         6037  Los Angeles   \n",
       "2      Chicago      Chicago       IL    Illinois        17031         Cook   \n",
       "3        Miami        Miami       FL     Florida        12086   Miami-Dade   \n",
       "4      Houston      Houston       TX       Texas        48201       Harris   \n",
       "\n",
       "       lat       lng  population  density source  military  incorporated  \\\n",
       "0  40.6943  -73.9249    18832416  10943.7  shape     False          True   \n",
       "1  34.1141 -118.4068    11885717   3165.8  shape     False          True   \n",
       "2  41.8375  -87.6866     8489066   4590.3  shape     False          True   \n",
       "3  25.7840  -80.2101     6113982   4791.1  shape     False          True   \n",
       "4  29.7860  -95.3885     6046392   1386.5  shape     False          True   \n",
       "\n",
       "              timezone  ranking  \\\n",
       "0     America/New_York        1   \n",
       "1  America/Los_Angeles        1   \n",
       "2      America/Chicago        1   \n",
       "3     America/New_York        1   \n",
       "4      America/Chicago        1   \n",
       "\n",
       "                                                zips          id  \n",
       "0  11229 11226 11225 11224 11223 11221 11220 1138...  1840034016  \n",
       "1  90291 90293 90292 91316 91311 90035 90034 9003...  1840020491  \n",
       "2  60018 60649 60641 60640 60643 60642 60645 6064...  1840000494  \n",
       "3  33128 33129 33125 33126 33127 33149 33144 3314...  1840015149  \n",
       "4  77069 77068 77061 77060 77063 77062 77065 7706...  1840020925  "
      ]
     },
     "execution_count": 85,
     "metadata": {},
     "output_type": "execute_result"
    }
   ],
   "source": [
    "cities = pd.read_csv('uscities.csv')\n",
    "cities.head()"
   ]
  },
  {
   "cell_type": "code",
   "execution_count": 86,
   "metadata": {},
   "outputs": [],
   "source": [
    "cities = cities[['city','state_name','lat','lng','population']]"
   ]
  },
  {
   "cell_type": "code",
   "execution_count": 87,
   "metadata": {},
   "outputs": [],
   "source": [
    "data = data.merge(cities, left_on=['Film_City','Film_State'], right_on=['city','state_name'], how='inner')"
   ]
  },
  {
   "cell_type": "code",
   "execution_count": 88,
   "metadata": {},
   "outputs": [
    {
     "data": {
      "application/vnd.plotly.v1+json": {
       "config": {
        "plotlyServerURL": "https://plot.ly"
       },
       "data": [
        {
         "customdata": [
          [
           "Pennsylvania"
          ],
          [
           "Georgia"
          ],
          [
           "Maryland"
          ],
          [
           "Georgia"
          ],
          [
           "Maryland"
          ],
          [
           "Ohio"
          ],
          [
           "Maryland"
          ],
          [
           "Michigan"
          ],
          [
           "Texas"
          ],
          [
           "California"
          ],
          [
           "California"
          ],
          [
           "California"
          ],
          [
           "California"
          ],
          [
           "California"
          ],
          [
           "California"
          ],
          [
           "California"
          ],
          [
           "Virginia"
          ],
          [
           "North Carolina"
          ],
          [
           "Texas"
          ],
          [
           "Ohio"
          ],
          [
           "Tennessee"
          ],
          [
           "California"
          ],
          [
           "California"
          ],
          [
           "California"
          ],
          [
           "California"
          ],
          [
           "Texas"
          ],
          [
           "Colorado"
          ],
          [
           "Michigan"
          ],
          [
           "Pennsylvania"
          ],
          [
           "Florida"
          ],
          [
           "Georgia"
          ],
          [
           "California"
          ],
          [
           "California"
          ],
          [
           "California"
          ],
          [
           "Virginia"
          ],
          [
           "New Jersey"
          ],
          [
           "Texas"
          ],
          [
           "Tennessee"
          ],
          [
           "Maryland"
          ],
          [
           "California"
          ],
          [
           "Minnesota"
          ],
          [
           "Pennsylvania"
          ],
          [
           "New Jersey"
          ],
          [
           "California"
          ],
          [
           "California"
          ],
          [
           "Florida"
          ],
          [
           "Pennsylvania"
          ],
          [
           "Pennsylvania"
          ],
          [
           "Nevada"
          ],
          [
           "California"
          ],
          [
           "California"
          ],
          [
           "California"
          ],
          [
           "Arizona"
          ],
          [
           "California"
          ],
          [
           "Virginia"
          ],
          [
           "California"
          ],
          [
           "California"
          ],
          [
           "New Jersey"
          ],
          [
           "New Jersey"
          ],
          [
           "California"
          ],
          [
           "Tennessee"
          ],
          [
           "Connecticut"
          ],
          [
           "California"
          ],
          [
           "California"
          ],
          [
           "California"
          ],
          [
           "Florida"
          ],
          [
           "Florida"
          ],
          [
           "California"
          ],
          [
           "New Jersey"
          ],
          [
           "New Jersey"
          ],
          [
           "Pennsylvania"
          ],
          [
           "Arizona"
          ],
          [
           "California"
          ],
          [
           "California"
          ],
          [
           "California"
          ],
          [
           "California"
          ],
          [
           "Texas"
          ],
          [
           "California"
          ],
          [
           "California"
          ],
          [
           "California"
          ],
          [
           "California"
          ],
          [
           "California"
          ],
          [
           "New York"
          ],
          [
           "Arizona"
          ],
          [
           "Washington"
          ],
          [
           "Minnesota"
          ],
          [
           "Virginia"
          ],
          [
           "New Jersey"
          ],
          [
           "California"
          ],
          [
           "California"
          ],
          [
           "California"
          ],
          [
           "Utah"
          ],
          [
           "California"
          ],
          [
           "California"
          ],
          [
           "California"
          ],
          [
           "Pennsylvania"
          ],
          [
           "New Jersey"
          ],
          [
           "Pennsylvania"
          ],
          [
           "California"
          ],
          [
           "California"
          ],
          [
           "California"
          ]
         ],
         "hovertemplate": "<b>%{hovertext}</b><br><br>lat=%{lat}<br>lng=%{lon}<br>Film_State=%{customdata[0]}<br>Total_Overall=%{marker.color}<extra></extra>",
         "hovertext": [
          "Allentown",
          "Alpharetta",
          "Annapolis",
          "Atlanta",
          "Baltimore",
          "Beachwood",
          "Bethesda",
          "Birmingham",
          "Boerne",
          "Buena Park",
          "Burbank",
          "Calabasas",
          "Calexico",
          "Carlsbad",
          "Castaic",
          "Cerritos",
          "Chantilly",
          "Charlotte",
          "Cleburne",
          "Columbus",
          "Cookeville",
          "Corona",
          "Costa Mesa",
          "Covina",
          "Cypress",
          "Dallas",
          "Denver",
          "Detroit",
          "Devon",
          "Doral",
          "Douglasville",
          "El Cajon",
          "Encinitas",
          "Escondido",
          "Fairfax",
          "Fort Lee",
          "Fort Worth",
          "Franklin",
          "Gaithersburg",
          "Garden Grove",
          "Golden Valley",
          "Harrisburg",
          "Highlands",
          "Huntington Beach",
          "Irvine",
          "Jacksonville",
          "King of Prussia",
          "Lansdale",
          "Las Vegas",
          "Long Beach",
          "Los Angeles",
          "Madera",
          "Marana",
          "Martinez",
          "Middleburg",
          "Mission Viejo",
          "Modesto",
          "Montvale",
          "Morristown",
          "Napa",
          "Nashville",
          "New Canaan",
          "Newport Beach",
          "Ontario",
          "Orange",
          "Orlando",
          "Palm Beach",
          "Palm Desert",
          "Paramus",
          "Pennington",
          "Philadelphia",
          "Phoenix",
          "Rancho Santa Fe",
          "Redwood City",
          "Riverside",
          "Sacramento",
          "San Antonio",
          "San Diego",
          "San Francisco",
          "San Jose",
          "San Mateo",
          "Santa Ana",
          "Scarsdale",
          "Scottsdale",
          "Seattle",
          "Shakopee",
          "Springfield",
          "Summit",
          "Temecula",
          "Thermal",
          "Thousand Oaks",
          "Tooele",
          "Tustin",
          "Upland",
          "Vista",
          "West Chester",
          "Wharton",
          "Wilkes-Barre",
          "Willows",
          "Yorba Linda",
          "Yucaipa"
         ],
         "lat": {
          "bdata": "o5I6AU1MREC30QDeAglBQLG/7J48fENAxLEubqPhQEA7AU2EDadDQE0VjErqvERA5x2n6Eh+Q0Bos+pztUVFQNQrZRniyD1AyxDHurjtQECOdXEbDRhBQJqZmZmZEUFA5IOezapXQEByio7k8o9AQD2bVZ+rPUFAArwFEhTvQEDhC5OpgnFDQN/gC5OpmkFAPZtVn6stQEBYqDXNO/5DQDSitDf4EkJA5x2n6EjuQEAhH/RsVtVAQBZqTfOOC0FA48eYu5boQEAhsHJokWVAQKjGSzeJ4UNAqaROQBMxRUDY8PRKWQZEQP+ye/Kw0DlA5q4l5IPeQEACmggbnmZAQEp7gy9MhkBAGsBbIEGRQEDaG3xhMm1DQE0VjErqbERAQKTfvg5kQED2KFyPwvVBQFMFo5I6kUNAlrIMcazjQECC4seYu35GQPrt68A5I0RAMlUwKqkzREAMAiuHFtlAQPRsVn2u1kBAMLsnDwtVPkBqTfOOUwxEQLu4jQbwHkRAEhQ/xtwdQkB1ApoIG+ZAQJ88LNSaDkFAJQaBlUN7QkA5tMh2vjdAQCuHFtnO/0JAMQisHFp8Q0Ag0m9fB85AQJqZmZmZ0UJArfpcbcWGRECSXP5D+mVEQK5H4XoUJkNAy6FFtvMVQkAZBFYOLZJEQILix5i7zkBAzF1LyAcFQUAtQxzr4uZAQHxhMlUwejxAbxKDwMqxOkCRfvs6cN5AQBsv3SQGeURARPrt68ApREDwFkhQ/ABEQLdif9k9yUBAUI2XbhKDQEC4HoXrUcBCQFUwKqkT+EBAOPjCZKpIQ0DYgXNGlHY9QBiV1AloakBAjSjtDb7gQkARx7q4jaZCQPRsVn2uxkJASnuDL0zeQEDmP6Tfvn5EQNXnaiv210BA1sVtNIDPR0BCYOXQImNGQIcW2c73Y0NAescpOpJbREACvAUSFL9AQKpgVFIn0EBAKjqSy38YQUDMXUvIB0VEQIQNT6+U3UBAArwFEhQPQUAqqRPQRJhAQN5xio7k+kNAbHh6pSxzREDysFBrmp9EQO5aQj7owUNAbxKDwMrxQECjkjoBTQRBQA==",
          "dtype": "f8"
         },
         "legendgroup": "",
         "lon": {
          "bdata": "kX77OnDeUsBEaW/whRFVwKOSOgFNIFPAXrpJDAIbVcBlqmBUUidTwNV46SYxYFTA8rBQa5pHU8ASFD/G3M1UwJEPejarrljA8WPMXUuAXcBiEFg5tJRdwNcS8kHPql3AHcnlP6TfXMDu68A5I1JdwNUJaCJsqF3AXCBB8WOEXcAqOpLLf1xTwJp3nKIjNVTAdCSX/5BaWMBQjZduEr9UwLHh6ZWyYFXAqmBUUidkXcBYObTIdnpdwDhnRGlveF3ACmgibHiCXcD3deCcETFYwI51cRsNOFrAEce6uI3GVMB6Nqs+V9tSwIlBYOXQFlTATKYKRiUtVcAFxY8xdz1dwGIQWDm0UF3ADeAtkKBEXcAep+hILlNTwLWmeccpflLAWKg1zTtWWMCDUUmdgLZVwMSxLm6jTVPA7zhFR3J9XcCX/5B++1ZXwJT2Bl+YOFPALGUZ4lh/UsCASL99HYBdwERpb/CFcV3AgQTFjzFrVMBN845TdNhSwKfoSC7/0VLA8BZIUPzQXMCmm8QgsIpdwNIA3gIJml3APujZrPoEXsDgLZCg+MlbwDPEsS5uh17AswxxrItvU8AE54wo7WldwHEbDeAtQF7AgQTFjzGDUsCtad5xip5SwCUGgZVDk17AfGEyVTCyVcAIrBxaZF9SwA8LtaZ5d13A1xLyQc9mXcCU9gZfmHRdwCGwcmiRVVTAUWuad5wCVMDP91PjpRddwGrecYqOhFLAUWuad5yyUsDNO07RkchSwGiz6nO1BVzAP1dbsb9MXcB88rBQa45ewDBMpgpGWV3ARIts5/tdXsBEaW/whaFYwI/k8h/SR13AY3/ZPXmcXsCDwMqhRXZewDlFR3L5k17A6pWyDHF4XcCSy39Iv3FSwEHxY8xd91vAorQ3+MKUXsCtad5xil5XwABvgQTFS1PAejarPleXUsAj2/l+akhdwPjCZKpgCF3AKxiV1Am4XcAkKH6MuRNcwIC3QILic13A0ZFc/kNqXcDXNO84RU9dwK36XG3F5lLAE2HD0yulUsDy0k1iEPhSwFTjpZvEjF7Amggbnl5xXcDmP6TfvkJdwA==",
          "dtype": "f8"
         },
         "marker": {
          "color": {
           "bdata": "AAAAAAAAS0AAAAAAAMBQQAAAAAAAQE9AAAAAAAAAR0AAAAAAAIBOQAAAAAAAwFFAq6qqqqqqTkAzMzMzM7NMQAAAAAAAAFBAAAAAAAAASUCrqqqqqqpPQAAAAAAAAFJAAAAAAACARkAAAAAAAKBLQAAAAAAAAENAAAAAAAAAT0AAAAAAAIBKQAAAAAAAwFBAAAAAAACAR0CrqqqqqipSQAAAAAAAAENAAAAAAACAS0DkOI7jOI5OQAAAAAAAAElAAAAAAAAASUAAAAAAAIBGQKuqqqqqqkVAAAAAAACATUAAAAAAAABOQAAAAAAAYEhAAAAAAAAAPUBVVVVVVdVHQAAAAAAAAEtAAAAAAACATEAAAAAAACBIQAAAAAAAgE5AAAAAAADASkAAAAAAAEBLQAAAAAAAwEtAAAAAAAAARkCrqqqqqqpJQAAAAAAAgEVAAAAAAACAT0AAAAAAAMBNQCVJkiRJEk5AAAAAAACAS0AAAAAAAMBKQAAAAAAAgE9AAAAAAAAAUECrqqqqqqpOQLgehetR+ExAAAAAAAAASkAAAAAAAIBNQAAAAAAAgENAAAAAAAAAS0AAAAAAAABHQAAAAAAAgEZAAAAAAAAAUEAAAAAAAIBNQAAAAAAAgExAzczMzMxMSUAAAAAAAABLQE8jLPc0wk9Aq6qqqqqqSkAAAAAAAABFQAAAAAAAAEBAAAAAAACgUUAAAAAAAIBNQAAAAAAAgEdAAAAAAACARkAlSZIkSZJLQAAAAAAAAEtAAAAAAACATkAAAAAAAMBRQAAAAAAAgElAAAAAAACAT0AAAAAAAEBQQD4EKTcVzUtAAAAAAAAgUEAAAAAAAABIQAAAAAAAAD9AAAAAAAAATkAAAAAAAIBPQAAAAAAAgERAAAAAAACARkAAAAAAAIBLQAAAAAAAAEZAAAAAAABAUEAAAAAAAIBQQAAAAAAAAFJAAAAAAACARkAAAAAAAABRQAAAAAAAgExAsRM7sRM7TUAAAAAAAMBJQAAAAAAAwE9AAAAAAAAAR0AAAAAAAIBFQAAAAAAAAE1AAAAAAACAREAAAAAAAIBLQA==",
           "dtype": "f8"
          },
          "coloraxis": "coloraxis"
         },
         "mode": "markers",
         "name": "",
         "showlegend": false,
         "subplot": "map",
         "type": "scattermap"
        }
       ],
       "layout": {
        "coloraxis": {
         "colorbar": {
          "title": {
           "text": "Total_Overall"
          }
         },
         "colorscale": [
          [
           0,
           "rgb(3, 35, 51)"
          ],
          [
           0.09090909090909091,
           "rgb(13, 48, 100)"
          ],
          [
           0.18181818181818182,
           "rgb(53, 50, 155)"
          ],
          [
           0.2727272727272727,
           "rgb(93, 62, 153)"
          ],
          [
           0.36363636363636365,
           "rgb(126, 77, 143)"
          ],
          [
           0.45454545454545453,
           "rgb(158, 89, 135)"
          ],
          [
           0.5454545454545454,
           "rgb(193, 100, 121)"
          ],
          [
           0.6363636363636364,
           "rgb(225, 113, 97)"
          ],
          [
           0.7272727272727273,
           "rgb(246, 139, 69)"
          ],
          [
           0.8181818181818182,
           "rgb(251, 173, 60)"
          ],
          [
           0.9090909090909091,
           "rgb(246, 211, 70)"
          ],
          [
           1,
           "rgb(231, 250, 90)"
          ]
         ]
        },
        "legend": {
         "tracegroupgap": 0
        },
        "map": {
         "center": {
          "lat": 36.312226732673274,
          "lon": -100.28616336633664
         },
         "domain": {
          "x": [
           0,
           1
          ],
          "y": [
           0,
           1
          ]
         },
         "zoom": 2
        },
        "mapbox": {
         "center": {
          "lat": 36.312226732673274,
          "lon": -100.28616336633664
         },
         "zoom": 2
        },
        "margin": {
         "t": 60
        },
        "template": {
         "data": {
          "bar": [
           {
            "error_x": {
             "color": "#2a3f5f"
            },
            "error_y": {
             "color": "#2a3f5f"
            },
            "marker": {
             "line": {
              "color": "#E5ECF6",
              "width": 0.5
             },
             "pattern": {
              "fillmode": "overlay",
              "size": 10,
              "solidity": 0.2
             }
            },
            "type": "bar"
           }
          ],
          "barpolar": [
           {
            "marker": {
             "line": {
              "color": "#E5ECF6",
              "width": 0.5
             },
             "pattern": {
              "fillmode": "overlay",
              "size": 10,
              "solidity": 0.2
             }
            },
            "type": "barpolar"
           }
          ],
          "carpet": [
           {
            "aaxis": {
             "endlinecolor": "#2a3f5f",
             "gridcolor": "white",
             "linecolor": "white",
             "minorgridcolor": "white",
             "startlinecolor": "#2a3f5f"
            },
            "baxis": {
             "endlinecolor": "#2a3f5f",
             "gridcolor": "white",
             "linecolor": "white",
             "minorgridcolor": "white",
             "startlinecolor": "#2a3f5f"
            },
            "type": "carpet"
           }
          ],
          "choropleth": [
           {
            "colorbar": {
             "outlinewidth": 0,
             "ticks": ""
            },
            "type": "choropleth"
           }
          ],
          "contour": [
           {
            "colorbar": {
             "outlinewidth": 0,
             "ticks": ""
            },
            "colorscale": [
             [
              0,
              "#0d0887"
             ],
             [
              0.1111111111111111,
              "#46039f"
             ],
             [
              0.2222222222222222,
              "#7201a8"
             ],
             [
              0.3333333333333333,
              "#9c179e"
             ],
             [
              0.4444444444444444,
              "#bd3786"
             ],
             [
              0.5555555555555556,
              "#d8576b"
             ],
             [
              0.6666666666666666,
              "#ed7953"
             ],
             [
              0.7777777777777778,
              "#fb9f3a"
             ],
             [
              0.8888888888888888,
              "#fdca26"
             ],
             [
              1,
              "#f0f921"
             ]
            ],
            "type": "contour"
           }
          ],
          "contourcarpet": [
           {
            "colorbar": {
             "outlinewidth": 0,
             "ticks": ""
            },
            "type": "contourcarpet"
           }
          ],
          "heatmap": [
           {
            "colorbar": {
             "outlinewidth": 0,
             "ticks": ""
            },
            "colorscale": [
             [
              0,
              "#0d0887"
             ],
             [
              0.1111111111111111,
              "#46039f"
             ],
             [
              0.2222222222222222,
              "#7201a8"
             ],
             [
              0.3333333333333333,
              "#9c179e"
             ],
             [
              0.4444444444444444,
              "#bd3786"
             ],
             [
              0.5555555555555556,
              "#d8576b"
             ],
             [
              0.6666666666666666,
              "#ed7953"
             ],
             [
              0.7777777777777778,
              "#fb9f3a"
             ],
             [
              0.8888888888888888,
              "#fdca26"
             ],
             [
              1,
              "#f0f921"
             ]
            ],
            "type": "heatmap"
           }
          ],
          "histogram": [
           {
            "marker": {
             "pattern": {
              "fillmode": "overlay",
              "size": 10,
              "solidity": 0.2
             }
            },
            "type": "histogram"
           }
          ],
          "histogram2d": [
           {
            "colorbar": {
             "outlinewidth": 0,
             "ticks": ""
            },
            "colorscale": [
             [
              0,
              "#0d0887"
             ],
             [
              0.1111111111111111,
              "#46039f"
             ],
             [
              0.2222222222222222,
              "#7201a8"
             ],
             [
              0.3333333333333333,
              "#9c179e"
             ],
             [
              0.4444444444444444,
              "#bd3786"
             ],
             [
              0.5555555555555556,
              "#d8576b"
             ],
             [
              0.6666666666666666,
              "#ed7953"
             ],
             [
              0.7777777777777778,
              "#fb9f3a"
             ],
             [
              0.8888888888888888,
              "#fdca26"
             ],
             [
              1,
              "#f0f921"
             ]
            ],
            "type": "histogram2d"
           }
          ],
          "histogram2dcontour": [
           {
            "colorbar": {
             "outlinewidth": 0,
             "ticks": ""
            },
            "colorscale": [
             [
              0,
              "#0d0887"
             ],
             [
              0.1111111111111111,
              "#46039f"
             ],
             [
              0.2222222222222222,
              "#7201a8"
             ],
             [
              0.3333333333333333,
              "#9c179e"
             ],
             [
              0.4444444444444444,
              "#bd3786"
             ],
             [
              0.5555555555555556,
              "#d8576b"
             ],
             [
              0.6666666666666666,
              "#ed7953"
             ],
             [
              0.7777777777777778,
              "#fb9f3a"
             ],
             [
              0.8888888888888888,
              "#fdca26"
             ],
             [
              1,
              "#f0f921"
             ]
            ],
            "type": "histogram2dcontour"
           }
          ],
          "mesh3d": [
           {
            "colorbar": {
             "outlinewidth": 0,
             "ticks": ""
            },
            "type": "mesh3d"
           }
          ],
          "parcoords": [
           {
            "line": {
             "colorbar": {
              "outlinewidth": 0,
              "ticks": ""
             }
            },
            "type": "parcoords"
           }
          ],
          "pie": [
           {
            "automargin": true,
            "type": "pie"
           }
          ],
          "scatter": [
           {
            "fillpattern": {
             "fillmode": "overlay",
             "size": 10,
             "solidity": 0.2
            },
            "type": "scatter"
           }
          ],
          "scatter3d": [
           {
            "line": {
             "colorbar": {
              "outlinewidth": 0,
              "ticks": ""
             }
            },
            "marker": {
             "colorbar": {
              "outlinewidth": 0,
              "ticks": ""
             }
            },
            "type": "scatter3d"
           }
          ],
          "scattercarpet": [
           {
            "marker": {
             "colorbar": {
              "outlinewidth": 0,
              "ticks": ""
             }
            },
            "type": "scattercarpet"
           }
          ],
          "scattergeo": [
           {
            "marker": {
             "colorbar": {
              "outlinewidth": 0,
              "ticks": ""
             }
            },
            "type": "scattergeo"
           }
          ],
          "scattergl": [
           {
            "marker": {
             "colorbar": {
              "outlinewidth": 0,
              "ticks": ""
             }
            },
            "type": "scattergl"
           }
          ],
          "scattermap": [
           {
            "marker": {
             "colorbar": {
              "outlinewidth": 0,
              "ticks": ""
             }
            },
            "type": "scattermap"
           }
          ],
          "scattermapbox": [
           {
            "marker": {
             "colorbar": {
              "outlinewidth": 0,
              "ticks": ""
             }
            },
            "type": "scattermapbox"
           }
          ],
          "scatterpolar": [
           {
            "marker": {
             "colorbar": {
              "outlinewidth": 0,
              "ticks": ""
             }
            },
            "type": "scatterpolar"
           }
          ],
          "scatterpolargl": [
           {
            "marker": {
             "colorbar": {
              "outlinewidth": 0,
              "ticks": ""
             }
            },
            "type": "scatterpolargl"
           }
          ],
          "scatterternary": [
           {
            "marker": {
             "colorbar": {
              "outlinewidth": 0,
              "ticks": ""
             }
            },
            "type": "scatterternary"
           }
          ],
          "surface": [
           {
            "colorbar": {
             "outlinewidth": 0,
             "ticks": ""
            },
            "colorscale": [
             [
              0,
              "#0d0887"
             ],
             [
              0.1111111111111111,
              "#46039f"
             ],
             [
              0.2222222222222222,
              "#7201a8"
             ],
             [
              0.3333333333333333,
              "#9c179e"
             ],
             [
              0.4444444444444444,
              "#bd3786"
             ],
             [
              0.5555555555555556,
              "#d8576b"
             ],
             [
              0.6666666666666666,
              "#ed7953"
             ],
             [
              0.7777777777777778,
              "#fb9f3a"
             ],
             [
              0.8888888888888888,
              "#fdca26"
             ],
             [
              1,
              "#f0f921"
             ]
            ],
            "type": "surface"
           }
          ],
          "table": [
           {
            "cells": {
             "fill": {
              "color": "#EBF0F8"
             },
             "line": {
              "color": "white"
             }
            },
            "header": {
             "fill": {
              "color": "#C8D4E3"
             },
             "line": {
              "color": "white"
             }
            },
            "type": "table"
           }
          ]
         },
         "layout": {
          "annotationdefaults": {
           "arrowcolor": "#2a3f5f",
           "arrowhead": 0,
           "arrowwidth": 1
          },
          "autotypenumbers": "strict",
          "coloraxis": {
           "colorbar": {
            "outlinewidth": 0,
            "ticks": ""
           }
          },
          "colorscale": {
           "diverging": [
            [
             0,
             "#8e0152"
            ],
            [
             0.1,
             "#c51b7d"
            ],
            [
             0.2,
             "#de77ae"
            ],
            [
             0.3,
             "#f1b6da"
            ],
            [
             0.4,
             "#fde0ef"
            ],
            [
             0.5,
             "#f7f7f7"
            ],
            [
             0.6,
             "#e6f5d0"
            ],
            [
             0.7,
             "#b8e186"
            ],
            [
             0.8,
             "#7fbc41"
            ],
            [
             0.9,
             "#4d9221"
            ],
            [
             1,
             "#276419"
            ]
           ],
           "sequential": [
            [
             0,
             "#0d0887"
            ],
            [
             0.1111111111111111,
             "#46039f"
            ],
            [
             0.2222222222222222,
             "#7201a8"
            ],
            [
             0.3333333333333333,
             "#9c179e"
            ],
            [
             0.4444444444444444,
             "#bd3786"
            ],
            [
             0.5555555555555556,
             "#d8576b"
            ],
            [
             0.6666666666666666,
             "#ed7953"
            ],
            [
             0.7777777777777778,
             "#fb9f3a"
            ],
            [
             0.8888888888888888,
             "#fdca26"
            ],
            [
             1,
             "#f0f921"
            ]
           ],
           "sequentialminus": [
            [
             0,
             "#0d0887"
            ],
            [
             0.1111111111111111,
             "#46039f"
            ],
            [
             0.2222222222222222,
             "#7201a8"
            ],
            [
             0.3333333333333333,
             "#9c179e"
            ],
            [
             0.4444444444444444,
             "#bd3786"
            ],
            [
             0.5555555555555556,
             "#d8576b"
            ],
            [
             0.6666666666666666,
             "#ed7953"
            ],
            [
             0.7777777777777778,
             "#fb9f3a"
            ],
            [
             0.8888888888888888,
             "#fdca26"
            ],
            [
             1,
             "#f0f921"
            ]
           ]
          },
          "colorway": [
           "#636efa",
           "#EF553B",
           "#00cc96",
           "#ab63fa",
           "#FFA15A",
           "#19d3f3",
           "#FF6692",
           "#B6E880",
           "#FF97FF",
           "#FECB52"
          ],
          "font": {
           "color": "#2a3f5f"
          },
          "geo": {
           "bgcolor": "white",
           "lakecolor": "white",
           "landcolor": "#E5ECF6",
           "showlakes": true,
           "showland": true,
           "subunitcolor": "white"
          },
          "hoverlabel": {
           "align": "left"
          },
          "hovermode": "closest",
          "mapbox": {
           "style": "light"
          },
          "paper_bgcolor": "white",
          "plot_bgcolor": "#E5ECF6",
          "polar": {
           "angularaxis": {
            "gridcolor": "white",
            "linecolor": "white",
            "ticks": ""
           },
           "bgcolor": "#E5ECF6",
           "radialaxis": {
            "gridcolor": "white",
            "linecolor": "white",
            "ticks": ""
           }
          },
          "scene": {
           "xaxis": {
            "backgroundcolor": "#E5ECF6",
            "gridcolor": "white",
            "gridwidth": 2,
            "linecolor": "white",
            "showbackground": true,
            "ticks": "",
            "zerolinecolor": "white"
           },
           "yaxis": {
            "backgroundcolor": "#E5ECF6",
            "gridcolor": "white",
            "gridwidth": 2,
            "linecolor": "white",
            "showbackground": true,
            "ticks": "",
            "zerolinecolor": "white"
           },
           "zaxis": {
            "backgroundcolor": "#E5ECF6",
            "gridcolor": "white",
            "gridwidth": 2,
            "linecolor": "white",
            "showbackground": true,
            "ticks": "",
            "zerolinecolor": "white"
           }
          },
          "shapedefaults": {
           "line": {
            "color": "#2a3f5f"
           }
          },
          "ternary": {
           "aaxis": {
            "gridcolor": "white",
            "linecolor": "white",
            "ticks": ""
           },
           "baxis": {
            "gridcolor": "white",
            "linecolor": "white",
            "ticks": ""
           },
           "bgcolor": "#E5ECF6",
           "caxis": {
            "gridcolor": "white",
            "linecolor": "white",
            "ticks": ""
           }
          },
          "title": {
           "x": 0.05
          },
          "xaxis": {
           "automargin": true,
           "gridcolor": "white",
           "linecolor": "white",
           "ticks": "",
           "title": {
            "standoff": 15
           },
           "zerolinecolor": "white",
           "zerolinewidth": 2
          },
          "yaxis": {
           "automargin": true,
           "gridcolor": "white",
           "linecolor": "white",
           "ticks": "",
           "title": {
            "standoff": 15
           },
           "zerolinecolor": "white",
           "zerolinewidth": 2
          }
         }
        }
       }
      }
     },
     "metadata": {},
     "output_type": "display_data"
    }
   ],
   "source": [
    "df = data.groupby(['Film_City','Film_State','lat','lng'])['Total_Overall'].mean().reset_index()\n",
    "fig = px.scatter_map(df,\n",
    "                        lat=\"lat\",\n",
    "                        lon=\"lng\",\n",
    "                        hover_name=\"Film_City\",\n",
    "                        hover_data=[\"Film_State\"],\n",
    "                        # size=\"Total_Overall\",\n",
    "                        color=\"Total_Overall\",\n",
    "                        color_continuous_scale=px.colors.sequential.thermal,\n",
    "                        # size_max=15,\n",
    "                        zoom=2,  # Adjust zoom level\n",
    "                        )\n",
    "fig.show()"
   ]
  },
  {
   "cell_type": "code",
   "execution_count": 89,
   "metadata": {},
   "outputs": [],
   "source": [
    "data['Make'] = data['Make'].str.strip()"
   ]
  },
  {
   "cell_type": "code",
   "execution_count": 90,
   "metadata": {},
   "outputs": [],
   "source": [
    "data.to_csv('ds_geo.csv')"
   ]
  },
  {
   "cell_type": "markdown",
   "metadata": {},
   "source": []
  },
  {
   "cell_type": "code",
   "execution_count": 78,
   "metadata": {},
   "outputs": [
    {
     "data": {
      "text/html": [
       "<div>\n",
       "<style scoped>\n",
       "    .dataframe tbody tr th:only-of-type {\n",
       "        vertical-align: middle;\n",
       "    }\n",
       "\n",
       "    .dataframe tbody tr th {\n",
       "        vertical-align: top;\n",
       "    }\n",
       "\n",
       "    .dataframe thead th {\n",
       "        text-align: right;\n",
       "    }\n",
       "</style>\n",
       "<table border=\"1\" class=\"dataframe\">\n",
       "  <thead>\n",
       "    <tr style=\"text-align: right;\">\n",
       "      <th></th>\n",
       "      <th>Year</th>\n",
       "      <th>Make</th>\n",
       "      <th>Model</th>\n",
       "      <th>Styling</th>\n",
       "      <th>Acceleration</th>\n",
       "      <th>Handling</th>\n",
       "      <th>Fun Factor</th>\n",
       "      <th>Cool Factor</th>\n",
       "      <th>Total_Weekend</th>\n",
       "      <th>Features</th>\n",
       "      <th>...</th>\n",
       "      <th>Total_Overall</th>\n",
       "      <th>Video_Length</th>\n",
       "      <th>Film_City</th>\n",
       "      <th>Film_State</th>\n",
       "      <th>Mfg_Country</th>\n",
       "      <th>city</th>\n",
       "      <th>state_name</th>\n",
       "      <th>lat</th>\n",
       "      <th>lng</th>\n",
       "      <th>population</th>\n",
       "    </tr>\n",
       "  </thead>\n",
       "  <tbody>\n",
       "    <tr>\n",
       "      <th>0</th>\n",
       "      <td>2020.0</td>\n",
       "      <td>McLaren</td>\n",
       "      <td>Speedtail</td>\n",
       "      <td>8.0</td>\n",
       "      <td>10.0</td>\n",
       "      <td>10.0</td>\n",
       "      <td>10.0</td>\n",
       "      <td>10.0</td>\n",
       "      <td>48.0</td>\n",
       "      <td>7.0</td>\n",
       "      <td>...</td>\n",
       "      <td>74.0</td>\n",
       "      <td>38:57</td>\n",
       "      <td>Columbus</td>\n",
       "      <td>Ohio</td>\n",
       "      <td>UK</td>\n",
       "      <td>Columbus</td>\n",
       "      <td>Ohio</td>\n",
       "      <td>39.9862</td>\n",
       "      <td>-82.9855</td>\n",
       "      <td>1578153</td>\n",
       "    </tr>\n",
       "    <tr>\n",
       "      <th>1</th>\n",
       "      <td>1994.0</td>\n",
       "      <td>McLaren</td>\n",
       "      <td>F1</td>\n",
       "      <td>8.0</td>\n",
       "      <td>9.0</td>\n",
       "      <td>10.0</td>\n",
       "      <td>10.0</td>\n",
       "      <td>10.0</td>\n",
       "      <td>47.0</td>\n",
       "      <td>2.0</td>\n",
       "      <td>...</td>\n",
       "      <td>74.0</td>\n",
       "      <td>39:50</td>\n",
       "      <td>Burbank</td>\n",
       "      <td>California</td>\n",
       "      <td>UK</td>\n",
       "      <td>Burbank</td>\n",
       "      <td>California</td>\n",
       "      <td>34.1879</td>\n",
       "      <td>-118.3235</td>\n",
       "      <td>105165</td>\n",
       "    </tr>\n",
       "    <tr>\n",
       "      <th>2</th>\n",
       "      <td>2022.0</td>\n",
       "      <td>Lucid</td>\n",
       "      <td>Air Dream Edition</td>\n",
       "      <td>7.0</td>\n",
       "      <td>10.0</td>\n",
       "      <td>6.0</td>\n",
       "      <td>7.0</td>\n",
       "      <td>8.0</td>\n",
       "      <td>38.0</td>\n",
       "      <td>9.0</td>\n",
       "      <td>...</td>\n",
       "      <td>73.0</td>\n",
       "      <td>39:40</td>\n",
       "      <td>Los Angeles</td>\n",
       "      <td>California</td>\n",
       "      <td>USA</td>\n",
       "      <td>Los Angeles</td>\n",
       "      <td>California</td>\n",
       "      <td>34.1141</td>\n",
       "      <td>-118.4068</td>\n",
       "      <td>11885717</td>\n",
       "    </tr>\n",
       "    <tr>\n",
       "      <th>3</th>\n",
       "      <td>2022.0</td>\n",
       "      <td>GMC</td>\n",
       "      <td>Hummer EV Pickup</td>\n",
       "      <td>5.0</td>\n",
       "      <td>9.0</td>\n",
       "      <td>4.0</td>\n",
       "      <td>9.0</td>\n",
       "      <td>7.0</td>\n",
       "      <td>34.0</td>\n",
       "      <td>9.0</td>\n",
       "      <td>...</td>\n",
       "      <td>73.0</td>\n",
       "      <td>33:42</td>\n",
       "      <td>Detroit</td>\n",
       "      <td>Michigan</td>\n",
       "      <td>USA</td>\n",
       "      <td>Detroit</td>\n",
       "      <td>Michigan</td>\n",
       "      <td>42.3834</td>\n",
       "      <td>-83.1024</td>\n",
       "      <td>3716929</td>\n",
       "    </tr>\n",
       "    <tr>\n",
       "      <th>4</th>\n",
       "      <td>2021.0</td>\n",
       "      <td>Rivian</td>\n",
       "      <td>R1T</td>\n",
       "      <td>7.0</td>\n",
       "      <td>9.0</td>\n",
       "      <td>5.0</td>\n",
       "      <td>9.0</td>\n",
       "      <td>7.0</td>\n",
       "      <td>37.0</td>\n",
       "      <td>7.0</td>\n",
       "      <td>...</td>\n",
       "      <td>73.0</td>\n",
       "      <td>44:48</td>\n",
       "      <td>San Diego</td>\n",
       "      <td>California</td>\n",
       "      <td>USA</td>\n",
       "      <td>San Diego</td>\n",
       "      <td>California</td>\n",
       "      <td>32.8313</td>\n",
       "      <td>-117.1222</td>\n",
       "      <td>3057778</td>\n",
       "    </tr>\n",
       "    <tr>\n",
       "      <th>...</th>\n",
       "      <td>...</td>\n",
       "      <td>...</td>\n",
       "      <td>...</td>\n",
       "      <td>...</td>\n",
       "      <td>...</td>\n",
       "      <td>...</td>\n",
       "      <td>...</td>\n",
       "      <td>...</td>\n",
       "      <td>...</td>\n",
       "      <td>...</td>\n",
       "      <td>...</td>\n",
       "      <td>...</td>\n",
       "      <td>...</td>\n",
       "      <td>...</td>\n",
       "      <td>...</td>\n",
       "      <td>...</td>\n",
       "      <td>...</td>\n",
       "      <td>...</td>\n",
       "      <td>...</td>\n",
       "      <td>...</td>\n",
       "      <td>...</td>\n",
       "    </tr>\n",
       "    <tr>\n",
       "      <th>518</th>\n",
       "      <td>2016.0</td>\n",
       "      <td>Mitsubishi</td>\n",
       "      <td>Mirage</td>\n",
       "      <td>3.0</td>\n",
       "      <td>1.0</td>\n",
       "      <td>2.0</td>\n",
       "      <td>1.0</td>\n",
       "      <td>1.0</td>\n",
       "      <td>8.0</td>\n",
       "      <td>3.0</td>\n",
       "      <td>...</td>\n",
       "      <td>31.0</td>\n",
       "      <td>22:33</td>\n",
       "      <td>San Mateo</td>\n",
       "      <td>California</td>\n",
       "      <td>Japan</td>\n",
       "      <td>San Mateo</td>\n",
       "      <td>California</td>\n",
       "      <td>37.5522</td>\n",
       "      <td>-122.3121</td>\n",
       "      <td>103555</td>\n",
       "    </tr>\n",
       "    <tr>\n",
       "      <th>519</th>\n",
       "      <td>2012.0</td>\n",
       "      <td>Nissan</td>\n",
       "      <td>Murano CrossCabriolet</td>\n",
       "      <td>2.0</td>\n",
       "      <td>1.0</td>\n",
       "      <td>3.0</td>\n",
       "      <td>1.0</td>\n",
       "      <td>2.0</td>\n",
       "      <td>9.0</td>\n",
       "      <td>4.0</td>\n",
       "      <td>...</td>\n",
       "      <td>30.0</td>\n",
       "      <td>6:49</td>\n",
       "      <td>Philadelphia</td>\n",
       "      <td>Pennsylvania</td>\n",
       "      <td>Japan</td>\n",
       "      <td>Philadelphia</td>\n",
       "      <td>Pennsylvania</td>\n",
       "      <td>40.0077</td>\n",
       "      <td>-75.1339</td>\n",
       "      <td>5696588</td>\n",
       "    </tr>\n",
       "    <tr>\n",
       "      <th>520</th>\n",
       "      <td>2017.0</td>\n",
       "      <td>Mercedes-Benz</td>\n",
       "      <td>Metris</td>\n",
       "      <td>3.0</td>\n",
       "      <td>1.0</td>\n",
       "      <td>3.0</td>\n",
       "      <td>1.0</td>\n",
       "      <td>1.0</td>\n",
       "      <td>9.0</td>\n",
       "      <td>4.0</td>\n",
       "      <td>...</td>\n",
       "      <td>30.0</td>\n",
       "      <td>25:30</td>\n",
       "      <td>Denver</td>\n",
       "      <td>Colorado</td>\n",
       "      <td>Germany</td>\n",
       "      <td>Denver</td>\n",
       "      <td>Colorado</td>\n",
       "      <td>39.7620</td>\n",
       "      <td>-104.8758</td>\n",
       "      <td>2691349</td>\n",
       "    </tr>\n",
       "    <tr>\n",
       "      <th>521</th>\n",
       "      <td>1988.0</td>\n",
       "      <td>Yugo</td>\n",
       "      <td>GV</td>\n",
       "      <td>3.0</td>\n",
       "      <td>1.0</td>\n",
       "      <td>2.0</td>\n",
       "      <td>3.0</td>\n",
       "      <td>6.0</td>\n",
       "      <td>15.0</td>\n",
       "      <td>2.0</td>\n",
       "      <td>...</td>\n",
       "      <td>29.0</td>\n",
       "      <td>9:51</td>\n",
       "      <td>Douglasville</td>\n",
       "      <td>Georgia</td>\n",
       "      <td>Yugoslavia</td>\n",
       "      <td>Douglasville</td>\n",
       "      <td>Georgia</td>\n",
       "      <td>33.7384</td>\n",
       "      <td>-84.7054</td>\n",
       "      <td>36284</td>\n",
       "    </tr>\n",
       "    <tr>\n",
       "      <th>522</th>\n",
       "      <td>1971.0</td>\n",
       "      <td>Trabant</td>\n",
       "      <td>Trabant</td>\n",
       "      <td>2.0</td>\n",
       "      <td>1.0</td>\n",
       "      <td>1.0</td>\n",
       "      <td>3.0</td>\n",
       "      <td>7.0</td>\n",
       "      <td>14.0</td>\n",
       "      <td>1.0</td>\n",
       "      <td>...</td>\n",
       "      <td>27.0</td>\n",
       "      <td>9:40</td>\n",
       "      <td>Fairfax</td>\n",
       "      <td>Virginia</td>\n",
       "      <td>East Germany</td>\n",
       "      <td>Fairfax</td>\n",
       "      <td>Virginia</td>\n",
       "      <td>38.8531</td>\n",
       "      <td>-77.2997</td>\n",
       "      <td>24478</td>\n",
       "    </tr>\n",
       "  </tbody>\n",
       "</table>\n",
       "<p>523 rows × 25 columns</p>\n",
       "</div>"
      ],
      "text/plain": [
       "       Year           Make                  Model  Styling  Acceleration  \\\n",
       "0    2020.0        McLaren              Speedtail      8.0          10.0   \n",
       "1    1994.0        McLaren                     F1      8.0           9.0   \n",
       "2    2022.0          Lucid      Air Dream Edition      7.0          10.0   \n",
       "3    2022.0            GMC       Hummer EV Pickup      5.0           9.0   \n",
       "4    2021.0         Rivian                    R1T      7.0           9.0   \n",
       "..      ...            ...                    ...      ...           ...   \n",
       "518  2016.0     Mitsubishi                 Mirage      3.0           1.0   \n",
       "519  2012.0         Nissan  Murano CrossCabriolet      2.0           1.0   \n",
       "520  2017.0  Mercedes-Benz                 Metris      3.0           1.0   \n",
       "521  1988.0           Yugo                     GV      3.0           1.0   \n",
       "522  1971.0        Trabant                Trabant      2.0           1.0   \n",
       "\n",
       "     Handling  Fun Factor  Cool Factor  Total_Weekend  Features  ...  \\\n",
       "0        10.0        10.0         10.0           48.0       7.0  ...   \n",
       "1        10.0        10.0         10.0           47.0       2.0  ...   \n",
       "2         6.0         7.0          8.0           38.0       9.0  ...   \n",
       "3         4.0         9.0          7.0           34.0       9.0  ...   \n",
       "4         5.0         9.0          7.0           37.0       7.0  ...   \n",
       "..        ...         ...          ...            ...       ...  ...   \n",
       "518       2.0         1.0          1.0            8.0       3.0  ...   \n",
       "519       3.0         1.0          2.0            9.0       4.0  ...   \n",
       "520       3.0         1.0          1.0            9.0       4.0  ...   \n",
       "521       2.0         3.0          6.0           15.0       2.0  ...   \n",
       "522       1.0         3.0          7.0           14.0       1.0  ...   \n",
       "\n",
       "     Total_Overall  Video_Length     Film_City    Film_State   Mfg_Country  \\\n",
       "0             74.0         38:57      Columbus          Ohio            UK   \n",
       "1             74.0         39:50       Burbank    California            UK   \n",
       "2             73.0         39:40   Los Angeles    California           USA   \n",
       "3             73.0         33:42       Detroit      Michigan           USA   \n",
       "4             73.0         44:48     San Diego    California           USA   \n",
       "..             ...           ...           ...           ...           ...   \n",
       "518           31.0         22:33     San Mateo    California         Japan   \n",
       "519           30.0          6:49  Philadelphia  Pennsylvania         Japan   \n",
       "520           30.0         25:30        Denver      Colorado       Germany   \n",
       "521           29.0          9:51  Douglasville       Georgia    Yugoslavia   \n",
       "522           27.0          9:40       Fairfax      Virginia  East Germany   \n",
       "\n",
       "             city    state_name      lat       lng population  \n",
       "0        Columbus          Ohio  39.9862  -82.9855    1578153  \n",
       "1         Burbank    California  34.1879 -118.3235     105165  \n",
       "2     Los Angeles    California  34.1141 -118.4068   11885717  \n",
       "3         Detroit      Michigan  42.3834  -83.1024    3716929  \n",
       "4       San Diego    California  32.8313 -117.1222    3057778  \n",
       "..            ...           ...      ...       ...        ...  \n",
       "518     San Mateo    California  37.5522 -122.3121     103555  \n",
       "519  Philadelphia  Pennsylvania  40.0077  -75.1339    5696588  \n",
       "520        Denver      Colorado  39.7620 -104.8758    2691349  \n",
       "521  Douglasville       Georgia  33.7384  -84.7054      36284  \n",
       "522       Fairfax      Virginia  38.8531  -77.2997      24478  \n",
       "\n",
       "[523 rows x 25 columns]"
      ]
     },
     "execution_count": 78,
     "metadata": {},
     "output_type": "execute_result"
    }
   ],
   "source": [
    "data"
   ]
  },
  {
   "cell_type": "code",
   "execution_count": null,
   "metadata": {},
   "outputs": [],
   "source": []
  }
 ],
 "metadata": {
  "kernelspec": {
   "display_name": "Python 3",
   "language": "python",
   "name": "python3"
  },
  "language_info": {
   "codemirror_mode": {
    "name": "ipython",
    "version": 3
   },
   "file_extension": ".py",
   "mimetype": "text/x-python",
   "name": "python",
   "nbconvert_exporter": "python",
   "pygments_lexer": "ipython3",
   "version": "3.12.9"
  }
 },
 "nbformat": 4,
 "nbformat_minor": 2
}
